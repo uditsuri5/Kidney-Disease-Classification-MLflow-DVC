{
 "cells": [
  {
   "cell_type": "code",
   "execution_count": 1,
   "metadata": {},
   "outputs": [],
   "source": [
    "import os"
   ]
  },
  {
   "cell_type": "code",
   "execution_count": 2,
   "metadata": {},
   "outputs": [
    {
     "data": {
      "text/plain": [
       "'d:\\\\KidneyClassifcationusingml\\\\Kidney-Disease-Classification-MLflow-DVC\\\\research'"
      ]
     },
     "execution_count": 2,
     "metadata": {},
     "output_type": "execute_result"
    }
   ],
   "source": [
    "%pwd\n"
   ]
  },
  {
   "cell_type": "code",
   "execution_count": 3,
   "metadata": {},
   "outputs": [],
   "source": [
    "os.chdir(\"../\")\n"
   ]
  },
  {
   "cell_type": "code",
   "execution_count": 4,
   "metadata": {},
   "outputs": [
    {
     "data": {
      "text/plain": [
       "'d:\\\\KidneyClassifcationusingml\\\\Kidney-Disease-Classification-MLflow-DVC'"
      ]
     },
     "execution_count": 4,
     "metadata": {},
     "output_type": "execute_result"
    }
   ],
   "source": [
    "%pwd\n"
   ]
  },
  {
   "cell_type": "code",
   "execution_count": 5,
   "metadata": {},
   "outputs": [],
   "source": [
    "from dataclasses import dataclass\n",
    "from pathlib import Path\n",
    "\n",
    "\n",
    "@dataclass(frozen=True)\n",
    "class TrainingConfig:\n",
    "    root_dir: Path\n",
    "    trained_model_path: Path\n",
    "    updated_base_model_path: Path\n",
    "    training_data: Path\n",
    "    params_epochs: int\n",
    "    params_batch_size: int\n",
    "    params_is_augmentation: bool\n",
    "    params_image_size: list"
   ]
  },
  {
   "cell_type": "code",
   "execution_count": 6,
   "metadata": {},
   "outputs": [],
   "source": [
    "from cnnClassifier.constants import *\n",
    "from cnnClassifier.utils.common import read_yaml, create_directories\n",
    "import tensorflow as tf"
   ]
  },
  {
   "cell_type": "code",
   "execution_count": 8,
   "metadata": {},
   "outputs": [],
   "source": [
    "class ConfigurationManager:\n",
    "    def __init__(\n",
    "        self,\n",
    "        config_filepath = CONFIG_FILE_PATH,\n",
    "        params_filepath = PARAMS_FILE_PATH):\n",
    "\n",
    "        self.config = read_yaml(config_filepath)\n",
    "        self.params = read_yaml(params_filepath)\n",
    "\n",
    "        create_directories([self.config.artifacts_root])\n",
    "\n",
    "\n",
    "    \n",
    "    def get_training_config(self) -> TrainingConfig:\n",
    "        training = self.config.training\n",
    "        prepare_base_model = self.config.prepare_base_model\n",
    "        params = self.params\n",
    "        training_data = os.path.join(self.config.data_ingestion.unzip_dir, \"kidney-ct-scan-image\")\n",
    "        create_directories([\n",
    "            Path(training.root_dir)\n",
    "        ])\n",
    "\n",
    "        training_config = TrainingConfig(\n",
    "            root_dir=Path(training.root_dir),\n",
    "            trained_model_path=Path(training.trained_model_path),\n",
    "            updated_base_model_path=Path(prepare_base_model.updated_base_model_path),\n",
    "            training_data=Path(training_data),\n",
    "            params_epochs=params.EPOCHS,\n",
    "            params_batch_size=params.BATCH_SIZE,\n",
    "            params_is_augmentation=params.AUGMENTATION,\n",
    "            params_image_size=params.IMAGE_SIZE\n",
    "        )\n",
    "\n",
    "        return training_config"
   ]
  },
  {
   "cell_type": "code",
   "execution_count": 9,
   "metadata": {},
   "outputs": [],
   "source": [
    "import os\n",
    "import urllib.request as request\n",
    "from zipfile import ZipFile\n",
    "import tensorflow as tf\n",
    "import time"
   ]
  },
  {
   "cell_type": "code",
   "execution_count": 10,
   "metadata": {},
   "outputs": [],
   "source": [
    "class Training:\n",
    "    def __init__(self, config: TrainingConfig):\n",
    "        self.config = config\n",
    "\n",
    "    \n",
    "    def get_base_model(self):\n",
    "        self.model = tf.keras.models.load_model(\n",
    "            self.config.updated_base_model_path\n",
    "        )\n",
    "\n",
    "    def train_valid_generator(self):\n",
    "\n",
    "        datagenerator_kwargs = dict(\n",
    "            rescale = 1./255,\n",
    "            validation_split=0.20\n",
    "        )\n",
    "\n",
    "        dataflow_kwargs = dict(\n",
    "            target_size=self.config.params_image_size[:-1],\n",
    "            batch_size=self.config.params_batch_size,\n",
    "            interpolation=\"bilinear\"\n",
    "        )\n",
    "\n",
    "        valid_datagenerator = tf.keras.preprocessing.image.ImageDataGenerator(\n",
    "            **datagenerator_kwargs\n",
    "        )\n",
    "\n",
    "        self.valid_generator = valid_datagenerator.flow_from_directory(\n",
    "            directory=self.config.training_data,\n",
    "            subset=\"validation\",\n",
    "            shuffle=False,\n",
    "            **dataflow_kwargs\n",
    "        )\n",
    "\n",
    "        if self.config.params_is_augmentation:\n",
    "            train_datagenerator = tf.keras.preprocessing.image.ImageDataGenerator(\n",
    "                rotation_range=40,\n",
    "                horizontal_flip=True,\n",
    "                width_shift_range=0.2,\n",
    "                height_shift_range=0.2,\n",
    "                shear_range=0.2,\n",
    "                zoom_range=0.2,\n",
    "                **datagenerator_kwargs\n",
    "            )\n",
    "        else:\n",
    "            train_datagenerator = valid_datagenerator\n",
    "\n",
    "        self.train_generator = train_datagenerator.flow_from_directory(\n",
    "            directory=self.config.training_data,\n",
    "            subset=\"training\",\n",
    "            shuffle=True,\n",
    "            **dataflow_kwargs\n",
    "        )\n",
    "\n",
    "    \n",
    "    @staticmethod\n",
    "    def save_model(path: Path, model: tf.keras.Model):\n",
    "        model.save(path)\n",
    "\n",
    "\n",
    "\n",
    "    \n",
    "    def train(self):\n",
    "        self.steps_per_epoch = self.train_generator.samples // self.train_generator.batch_size\n",
    "        self.validation_steps = self.valid_generator.samples // self.valid_generator.batch_size\n",
    "\n",
    "        self.model.fit(\n",
    "            self.train_generator,\n",
    "            epochs=self.config.params_epochs,\n",
    "            steps_per_epoch=self.steps_per_epoch,\n",
    "            validation_steps=self.validation_steps,\n",
    "            validation_data=self.valid_generator\n",
    "        )\n",
    "\n",
    "        self.save_model(\n",
    "            path=self.config.trained_model_path,\n",
    "            model=self.model\n",
    "        )"
   ]
  },
  {
   "cell_type": "code",
   "execution_count": 13,
   "metadata": {},
   "outputs": [
    {
     "name": "stdout",
     "output_type": "stream",
     "text": [
      "[2024-10-15 03:07:21,251: INFO: common: yaml file: config\\config.yaml loaded successfully]\n",
      "[2024-10-15 03:07:21,263: INFO: common: yaml file: params.yaml loaded successfully]\n",
      "[2024-10-15 03:07:21,265: INFO: common: created directory at: artifacts]\n",
      "[2024-10-15 03:07:21,268: INFO: common: created directory at: artifacts\\training]\n",
      "Found 93 images belonging to 2 classes.\n",
      "Found 372 images belonging to 2 classes.\n",
      "Epoch 1/25\n",
      "23/23 [==============================] - 36s 2s/step - loss: 10.2166 - accuracy: 0.5899 - val_loss: 31.1951 - val_accuracy: 0.4000\n",
      "Epoch 2/25\n",
      "23/23 [==============================] - 36s 2s/step - loss: 4.8920 - accuracy: 0.7275 - val_loss: 1.9117 - val_accuracy: 0.5250\n",
      "Epoch 3/25\n",
      "23/23 [==============================] - 35s 2s/step - loss: 5.9643 - accuracy: 0.7331 - val_loss: 0.5598 - val_accuracy: 0.9000\n",
      "Epoch 4/25\n",
      "23/23 [==============================] - 34s 1s/step - loss: 3.4823 - accuracy: 0.7500 - val_loss: 6.5386 - val_accuracy: 0.6000\n",
      "Epoch 5/25\n",
      "23/23 [==============================] - 32s 1s/step - loss: 1.9649 - accuracy: 0.8034 - val_loss: 0.7442 - val_accuracy: 0.9125\n",
      "Epoch 6/25\n",
      "23/23 [==============================] - 32s 1s/step - loss: 4.4884 - accuracy: 0.6966 - val_loss: 7.2534 - val_accuracy: 0.4750\n",
      "Epoch 7/25\n",
      "23/23 [==============================] - 32s 1s/step - loss: 3.2688 - accuracy: 0.7949 - val_loss: 1.5247 - val_accuracy: 0.7125\n",
      "Epoch 8/25\n",
      "23/23 [==============================] - 31s 1s/step - loss: 0.8755 - accuracy: 0.8989 - val_loss: 0.3289 - val_accuracy: 0.9625\n",
      "Epoch 9/25\n",
      "23/23 [==============================] - 31s 1s/step - loss: 1.2554 - accuracy: 0.8792 - val_loss: 0.0313 - val_accuracy: 0.9875\n",
      "Epoch 10/25\n",
      "23/23 [==============================] - 31s 1s/step - loss: 2.1145 - accuracy: 0.8258 - val_loss: 2.3740 - val_accuracy: 0.5625\n",
      "Epoch 11/25\n",
      "23/23 [==============================] - 32s 1s/step - loss: 0.3102 - accuracy: 0.9410 - val_loss: 0.0241 - val_accuracy: 0.9875\n",
      "Epoch 12/25\n",
      "23/23 [==============================] - 32s 1s/step - loss: 0.7466 - accuracy: 0.8961 - val_loss: 0.0673 - val_accuracy: 0.9625\n",
      "Epoch 13/25\n",
      "23/23 [==============================] - 34s 1s/step - loss: 0.1157 - accuracy: 0.9635 - val_loss: 4.4013e-04 - val_accuracy: 1.0000\n",
      "Epoch 14/25\n",
      "23/23 [==============================] - 34s 1s/step - loss: 0.5048 - accuracy: 0.9213 - val_loss: 0.0087 - val_accuracy: 1.0000\n",
      "Epoch 15/25\n",
      "23/23 [==============================] - 36s 2s/step - loss: 0.2242 - accuracy: 0.9551 - val_loss: 3.3254e-04 - val_accuracy: 1.0000\n",
      "Epoch 16/25\n",
      "23/23 [==============================] - 33s 1s/step - loss: 1.1760 - accuracy: 0.8961 - val_loss: 0.1336 - val_accuracy: 0.9500\n",
      "Epoch 17/25\n",
      "23/23 [==============================] - 33s 1s/step - loss: 0.2228 - accuracy: 0.9457 - val_loss: 4.7682e-04 - val_accuracy: 1.0000\n",
      "Epoch 18/25\n",
      "23/23 [==============================] - 36s 2s/step - loss: 0.6328 - accuracy: 0.9270 - val_loss: 0.2008 - val_accuracy: 0.9125\n",
      "Epoch 19/25\n",
      "23/23 [==============================] - 33s 1s/step - loss: 0.1032 - accuracy: 0.9719 - val_loss: 1.2173e-04 - val_accuracy: 1.0000\n",
      "Epoch 20/25\n",
      "23/23 [==============================] - 32s 1s/step - loss: 0.0817 - accuracy: 0.9888 - val_loss: 9.6193e-06 - val_accuracy: 1.0000\n",
      "Epoch 21/25\n",
      "23/23 [==============================] - 33s 1s/step - loss: 0.0814 - accuracy: 0.9831 - val_loss: 2.1626e-05 - val_accuracy: 1.0000\n",
      "Epoch 22/25\n",
      "23/23 [==============================] - 32s 1s/step - loss: 0.1184 - accuracy: 0.9663 - val_loss: 0.0291 - val_accuracy: 0.9875\n",
      "Epoch 23/25\n",
      "23/23 [==============================] - 33s 1s/step - loss: 0.0974 - accuracy: 0.9831 - val_loss: 0.0021 - val_accuracy: 1.0000\n",
      "Epoch 24/25\n",
      "23/23 [==============================] - 32s 1s/step - loss: 0.1074 - accuracy: 0.9775 - val_loss: 5.9929e-05 - val_accuracy: 1.0000\n",
      "Epoch 25/25\n",
      "23/23 [==============================] - 34s 1s/step - loss: 0.0432 - accuracy: 0.9831 - val_loss: 5.3130e-04 - val_accuracy: 1.0000\n"
     ]
    }
   ],
   "source": [
    "try:\n",
    "    config = ConfigurationManager()\n",
    "    training_config = config.get_training_config()\n",
    "    training = Training(config=training_config)\n",
    "    training.get_base_model()\n",
    "    training.train_valid_generator()\n",
    "    training.train()\n",
    "    \n",
    "except Exception as e:\n",
    "    raise e\n"
   ]
  },
  {
   "cell_type": "code",
   "execution_count": null,
   "metadata": {},
   "outputs": [],
   "source": []
  }
 ],
 "metadata": {
  "kernelspec": {
   "display_name": "kidney",
   "language": "python",
   "name": "python3"
  },
  "language_info": {
   "codemirror_mode": {
    "name": "ipython",
    "version": 3
   },
   "file_extension": ".py",
   "mimetype": "text/x-python",
   "name": "python",
   "nbconvert_exporter": "python",
   "pygments_lexer": "ipython3",
   "version": "3.8.20"
  }
 },
 "nbformat": 4,
 "nbformat_minor": 2
}
